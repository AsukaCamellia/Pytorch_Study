{
 "cells": [
  {
   "cell_type": "code",
   "execution_count": 4,
   "metadata": {},
   "outputs": [],
   "source": [
    "import torch\n",
    "import numpy as np\n",
    "import matplotlib.pyplot as plt\n",
    "import torchvision"
   ]
  },
  {
   "cell_type": "markdown",
   "metadata": {},
   "source": [
    "torchvision：计算机视觉工具包\n",
    "\n",
    "torchvision.transforms:常用的图像预处理方法\n",
    "\n",
    "torchvision.datasets:常用数据集的dataset实现，MNIST,CIFAR-10,ImageNet\n",
    "\n",
    "torchvision.model:常用的模型预训练 AlexNet VGG ResNet GoogleNet"
   ]
  },
  {
   "cell_type": "markdown",
   "metadata": {},
   "source": [
    "torchvision.transforms:\n",
    "\n",
    "数据中心化 数据标准化 缩放 裁剪 旋转 反转 填充 噪声添加 灰度变换 线性变换 仿射变换"
   ]
  },
  {
   "cell_type": "markdown",
   "metadata": {},
   "source": [
    "transforms.Normalize 逐channel的对图像进行标准化 output = （input-mean）/std params:\n",
    "\n",
    "mean:各通道均值\n",
    "\n",
    "std:各通道标准差\n",
    "\n",
    "inplace:是否原地操作"
   ]
  },
  {
   "cell_type": "markdown",
   "metadata": {},
   "source": [
    "1.transforms.CenterCrop 从图像中心裁剪图片 params：\n",
    "\n",
    "size：所需裁剪图片尺寸"
   ]
  },
  {
   "cell_type": "code",
   "execution_count": null,
   "metadata": {},
   "outputs": [],
   "source": []
  }
 ],
 "metadata": {
  "kernelspec": {
   "display_name": "pytorch",
   "language": "python",
   "name": "python3"
  },
  "language_info": {
   "codemirror_mode": {
    "name": "ipython",
    "version": 3
   },
   "file_extension": ".py",
   "mimetype": "text/x-python",
   "name": "python",
   "nbconvert_exporter": "python",
   "pygments_lexer": "ipython3",
   "version": "3.10.12"
  },
  "orig_nbformat": 4
 },
 "nbformat": 4,
 "nbformat_minor": 2
}
