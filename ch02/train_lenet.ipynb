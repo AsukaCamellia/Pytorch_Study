{
 "cells": [
  {
   "cell_type": "code",
   "execution_count": null,
   "metadata": {},
   "outputs": [],
   "source": [
    "import torch\n",
    "import numpy as np\n",
    "import matplotlib.pyplot as plt\n",
    "import os\n",
    "import torch.nn as nn\n",
    "from torch.utils.data import DataLoader\n",
    "import torch.optim as optim\n",
    "from torchvision import transforms\n",
    "import sys"
   ]
  },
  {
   "cell_type": "code",
   "execution_count": null,
   "metadata": {},
   "outputs": [],
   "source": [
    "base_dir = os.path.dirname(os.path.abspath('train_lenet.ipynb'))\n",
    "tool_dir = os.path.dirname(base_dir)\n",
    "sys.path.append(tool_dir)"
   ]
  },
  {
   "cell_type": "code",
   "execution_count": null,
   "metadata": {},
   "outputs": [],
   "source": [
    "from model.lenet import LeNet\n",
    "from tools.common_tools import set_seed\n",
    "from tools.my_dataset import RMBdataset"
   ]
  },
  {
   "cell_type": "code",
   "execution_count": null,
   "metadata": {},
   "outputs": [],
   "source": [
    "set_seed()\n",
    "rmb_label = {'1':0,'100':1}\n",
    "\n",
    "max_epoch = 10\n",
    "batch_size = 4\n",
    "lr = 0.01\n",
    "log_interval = 40\n",
    "val_interval = 1"
   ]
  },
  {
   "cell_type": "code",
   "execution_count": null,
   "metadata": {},
   "outputs": [],
   "source": [
    "split_dir = os.path.abspath(os.path.join(base_dir,'..','data','RMB_split_new'))\n",
    "if not os.path.exists(split_dir):\n",
    "    raise Exception('no data')\n",
    "train_dir = os.path.join(split_dir,'train')\n",
    "valid_dir = os.path.join(split_dir,'valid')\n",
    "\n",
    "norm_mean = [0.485,0.456,0.406]\n",
    "norm_std = [0.299,0.224,0.225]\n",
    "\n",
    "train_transform = transforms.Compose([\n",
    "    transforms.Resize((32,32)),\n",
    "    transforms.RandomCrop(32,padding=4),\n",
    "    transforms.ToTensor(),\n",
    "    transforms.Normalize(norm_mean,norm_std),\n",
    "])\n",
    "\n",
    "valid_transform = transforms.Compose([\n",
    "    transforms.Resize((32,32)),\n",
    "    transforms.ToTensor(),\n",
    "    transforms.Normalize(norm_mean,norm_std),\n",
    "])\n",
    "\n",
    "train_data = RMBdataset(train_dir,train_transform)\n",
    "valid_data = RMBdataset(valid_dir,valid_transform)\n",
    "\n",
    "train_loader = DataLoader(train_data,batch_size=batch_size,shuffle=True)\n",
    "valid_loader = DataLoader(valid_data,batch_size = batch_size)"
   ]
  },
  {
   "cell_type": "code",
   "execution_count": null,
   "metadata": {},
   "outputs": [],
   "source": [
    "len(valid_data.data_info)"
   ]
  },
  {
   "cell_type": "code",
   "execution_count": null,
   "metadata": {},
   "outputs": [],
   "source": [
    "net = LeNet(classes=2)\n",
    "net.initialize_weights()\n",
    "net"
   ]
  },
  {
   "cell_type": "code",
   "execution_count": null,
   "metadata": {},
   "outputs": [],
   "source": [
    "criterion = nn.CrossEntropyLoss()"
   ]
  },
  {
   "cell_type": "code",
   "execution_count": null,
   "metadata": {},
   "outputs": [],
   "source": [
    "optimizer = optim.SGD(net.parameters(),lr=lr,momentum=0.9)\n",
    "scheduler = optim.lr_scheduler.StepLR(optimizer,step_size=10,gamma=0.1)"
   ]
  },
  {
   "cell_type": "code",
   "execution_count": null,
   "metadata": {},
   "outputs": [],
   "source": [
    "train_curve = list()\n",
    "valid_curve = list()"
   ]
  },
  {
   "cell_type": "code",
   "execution_count": null,
   "metadata": {},
   "outputs": [],
   "source": [
    "for epoch in range(max_epoch):\n",
    "\n",
    "    loss_mean = 0.\n",
    "    correct = 0.\n",
    "    total = 0.\n",
    "\n",
    "    net.train()\n",
    "\n",
    "    for i,data in enumerate(train_loader):\n",
    "\n",
    "        inputs,labels = data\n",
    "        outputs = net(inputs)\n",
    "\n",
    "        optimizer.zero_grad()\n",
    "        loss = criterion(outputs,labels)\n",
    "        loss.backward()\n",
    "\n",
    "        optimizer.step()\n",
    "\n",
    "        _,predicted = torch.max(outputs.data,1)\n",
    "        total += labels.size(0)\n",
    "        correct += (predicted == labels).squeeze().sum().numpy()\n",
    "\n",
    "        loss_mean =+ loss.item()\n",
    "        train_curve.append(loss.item())\n",
    "        if (i+1)%log_interval == 0:\n",
    "            loss_mean = loss_mean/log_interval\n",
    "            print('train : epoch{} itear{} loss{} acc{}'.format(epoch,i+1,loss_mean,correct/total))\n",
    "            loss_mean = 0\n",
    "\n",
    "        scheduler.step()\n",
    "\n",
    "        if (epoch+1)%val_interval == 0:\n",
    "\n",
    "            correct_val = 0.\n",
    "            total_val = 0.\n",
    "            loss_val = 0.\n",
    "            net.eval()\n",
    "            with torch.no_grad():\n",
    "                for j,data in enumerate(valid_loader):\n",
    "                    inputs,label = data\n",
    "                    outputs = net(inputs)\n",
    "                    loss = criterion(outputs,labels)\n",
    "\n",
    "                    _,predicted = torch.max(outputs.data,1)\n",
    "                    total_val += label.size(0)\n",
    "                    correct_val += (predicted == labels).squeeze().sum().numpy()\n",
    "\n",
    "                    loss_val += loss.item()\n",
    "\n",
    "                loss_val_epoch = loss_val / len(valid_loader)\n",
    "                valid_curve.append(loss_val_epoch)\n",
    "\n",
    "                print('valid: epoch : {}  itear {}  loss {}  acc {}'.format(epoch,j+1,loss_val_epoch,correct_val/total_val))\n",
    "        \n",
    "\n",
    "\n"
   ]
  }
 ],
 "metadata": {
  "kernelspec": {
   "display_name": "pytorch",
   "language": "python",
   "name": "python3"
  },
  "language_info": {
   "codemirror_mode": {
    "name": "ipython",
    "version": 3
   },
   "file_extension": ".py",
   "mimetype": "text/x-python",
   "name": "python",
   "nbconvert_exporter": "python",
   "pygments_lexer": "ipython3",
   "version": "3.10.12"
  },
  "orig_nbformat": 4
 },
 "nbformat": 4,
 "nbformat_minor": 2
}
