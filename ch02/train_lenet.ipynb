{
 "cells": [
  {
   "cell_type": "code",
   "execution_count": 1,
   "metadata": {},
   "outputs": [
    {
     "name": "stderr",
     "output_type": "stream",
     "text": [
      "d:\\Anaconda3\\envs\\pytorch\\lib\\site-packages\\torchvision\\io\\image.py:13: UserWarning: Failed to load image Python extension: [WinError 127] 找不到指定的程序。\n",
      "  warn(f\"Failed to load image Python extension: {e}\")\n"
     ]
    }
   ],
   "source": [
    "import torch\n",
    "import numpy as np\n",
    "import matplotlib.pyplot as plt\n",
    "import os\n",
    "import torch.nn as nn\n",
    "from torch.utils.data import DataLoader\n",
    "import torch.optim as optim\n",
    "from torchvision import transforms\n",
    "import sys\n",
    "from torchsummary import summary"
   ]
  },
  {
   "cell_type": "code",
   "execution_count": 2,
   "metadata": {},
   "outputs": [],
   "source": [
    "base_dir = os.path.dirname(os.path.abspath('train_lenet.ipynb'))\n",
    "tool_dir = os.path.dirname(base_dir)\n",
    "sys.path.append(tool_dir)"
   ]
  },
  {
   "cell_type": "code",
   "execution_count": 3,
   "metadata": {},
   "outputs": [],
   "source": [
    "from model.lenet import LeNet\n",
    "from tools.common_tools import set_seed\n",
    "from tools.my_dataset import RMBdataset"
   ]
  },
  {
   "cell_type": "code",
   "execution_count": 5,
   "metadata": {},
   "outputs": [],
   "source": [
    "set_seed()\n",
    "rmb_label = {'1':0,'100':1}\n",
    "\n",
    "max_epoch = 10\n",
    "batch_size = 16\n",
    "lr = 0.01\n",
    "log_interval = 10\n",
    "val_interval = 1"
   ]
  },
  {
   "cell_type": "code",
   "execution_count": 6,
   "metadata": {},
   "outputs": [],
   "source": [
    "split_dir = os.path.abspath(os.path.join(base_dir,'..','data','RMB_split_new'))\n",
    "if not os.path.exists(split_dir):\n",
    "    raise Exception('no data')\n",
    "train_dir = os.path.join(split_dir,'train')\n",
    "valid_dir = os.path.join(split_dir,'valid')\n",
    "\n",
    "norm_mean = [0.485,0.456,0.406]\n",
    "norm_std = [0.299,0.224,0.225]\n",
    "\n",
    "train_transform = transforms.Compose([\n",
    "    transforms.Resize((32,32)),\n",
    "    transforms.RandomCrop(32,padding=4),\n",
    "    transforms.ToTensor(),\n",
    "    transforms.Normalize(norm_mean,norm_std),\n",
    "])\n",
    "\n",
    "valid_transform = transforms.Compose([\n",
    "    transforms.Resize((32,32)),\n",
    "    transforms.ToTensor(),\n",
    "    transforms.Normalize(norm_mean,norm_std),\n",
    "])\n",
    "\n",
    "train_data = RMBdataset(train_dir,train_transform)\n",
    "valid_data = RMBdataset(valid_dir,valid_transform)\n",
    "\n",
    "train_loader = DataLoader(train_data,batch_size=batch_size,shuffle=True)\n",
    "valid_loader = DataLoader(valid_data,batch_size = batch_size)"
   ]
  },
  {
   "cell_type": "code",
   "execution_count": 7,
   "metadata": {},
   "outputs": [
    {
     "data": {
      "text/plain": [
       "20"
      ]
     },
     "execution_count": 7,
     "metadata": {},
     "output_type": "execute_result"
    }
   ],
   "source": [
    "len(valid_data.data_info)"
   ]
  },
  {
   "cell_type": "code",
   "execution_count": 4,
   "metadata": {},
   "outputs": [
    {
     "name": "stdout",
     "output_type": "stream",
     "text": [
      "----------------------------------------------------------------\n",
      "        Layer (type)               Output Shape         Param #\n",
      "================================================================\n",
      "            Conv2d-1            [16, 6, 28, 28]             456\n",
      "         MaxPool2d-2            [16, 6, 14, 14]               0\n",
      "            Conv2d-3           [16, 16, 10, 10]           2,416\n",
      "         MaxPool2d-4             [16, 16, 5, 5]               0\n",
      "            Linear-5                  [16, 120]          48,120\n",
      "            Linear-6                   [16, 84]          10,164\n",
      "            Linear-7                    [16, 2]             170\n",
      "================================================================\n",
      "Total params: 61,326\n",
      "Trainable params: 61,326\n",
      "Non-trainable params: 0\n",
      "----------------------------------------------------------------\n",
      "Input size (MB): 0.19\n",
      "Forward/backward pass size (MB): 0.99\n",
      "Params size (MB): 0.23\n",
      "Estimated Total Size (MB): 1.41\n",
      "----------------------------------------------------------------\n"
     ]
    }
   ],
   "source": [
    "net = LeNet(classes=2)\n",
    "net.initialize_weights()\n",
    "summary(net,input_size=(3,32,32),batch_size=16)"
   ]
  },
  {
   "cell_type": "code",
   "execution_count": 9,
   "metadata": {},
   "outputs": [],
   "source": [
    "criterion = nn.CrossEntropyLoss()"
   ]
  },
  {
   "cell_type": "code",
   "execution_count": 10,
   "metadata": {},
   "outputs": [],
   "source": [
    "optimizer = optim.SGD(net.parameters(),lr=lr,momentum=0.9)\n",
    "scheduler = optim.lr_scheduler.StepLR(optimizer,step_size=10,gamma=0.1)"
   ]
  },
  {
   "cell_type": "code",
   "execution_count": 11,
   "metadata": {},
   "outputs": [],
   "source": [
    "train_curve = list()\n",
    "valid_curve = list()"
   ]
  },
  {
   "cell_type": "code",
   "execution_count": 24,
   "metadata": {},
   "outputs": [
    {
     "name": "stdout",
     "output_type": "stream",
     "text": [
      "Training:Epoch[000/010] Iteration[010/010] Loss: 0.7085 Acc:55.00%\n",
      "Valid:\t Epoch[000/010] Iteration[002/002] Loss: 0.5607 Acc:65.00%\n",
      "Training:Epoch[001/010] Iteration[010/010] Loss: 0.5524 Acc:84.38%\n",
      "Valid:\t Epoch[001/010] Iteration[002/002] Loss: 0.3104 Acc:100.00%\n",
      "Training:Epoch[002/010] Iteration[010/010] Loss: 0.2175 Acc:96.88%\n",
      "Valid:\t Epoch[002/010] Iteration[002/002] Loss: 0.0396 Acc:95.00%\n",
      "Training:Epoch[003/010] Iteration[010/010] Loss: 0.2872 Acc:91.88%\n",
      "Valid:\t Epoch[003/010] Iteration[002/002] Loss: 0.0999 Acc:95.00%\n",
      "Training:Epoch[004/010] Iteration[010/010] Loss: 0.2935 Acc:88.12%\n",
      "Valid:\t Epoch[004/010] Iteration[002/002] Loss: 0.0432 Acc:100.00%\n",
      "Training:Epoch[005/010] Iteration[010/010] Loss: 0.1116 Acc:95.00%\n",
      "Valid:\t Epoch[005/010] Iteration[002/002] Loss: 0.0398 Acc:100.00%\n",
      "Training:Epoch[006/010] Iteration[010/010] Loss: 0.0399 Acc:98.75%\n",
      "Valid:\t Epoch[006/010] Iteration[002/002] Loss: 0.0044 Acc:100.00%\n",
      "Training:Epoch[007/010] Iteration[010/010] Loss: 0.0119 Acc:99.38%\n",
      "Valid:\t Epoch[007/010] Iteration[002/002] Loss: 0.0014 Acc:100.00%\n",
      "Training:Epoch[008/010] Iteration[010/010] Loss: 0.0035 Acc:100.00%\n",
      "Valid:\t Epoch[008/010] Iteration[002/002] Loss: 0.0003 Acc:100.00%\n",
      "Training:Epoch[009/010] Iteration[010/010] Loss: 0.0015 Acc:100.00%\n",
      "Valid:\t Epoch[009/010] Iteration[002/002] Loss: 0.0001 Acc:100.00%\n"
     ]
    }
   ],
   "source": [
    "for epoch in range(max_epoch):\n",
    "\n",
    "    loss_mean = 0.\n",
    "    correct = 0.\n",
    "    total = 0.\n",
    "\n",
    "    net.train()\n",
    "\n",
    "    for i,data in enumerate(train_loader):\n",
    "\n",
    "        inputs,labels = data\n",
    "        outputs = net(inputs)\n",
    "\n",
    "        optimizer.zero_grad()\n",
    "        loss = criterion(outputs,labels)\n",
    "        loss.backward()\n",
    "\n",
    "        optimizer.step()\n",
    "        #torch.return_types.max(\n",
    "        # values=tensor([10.5266,  8.9267,  7.9300,  4.4381,  9.6347, 10.9706, 13.6223,  \n",
    "        # 8.9146,11.4780, 12.1139,  9.0526,  9.6139,  8.4901,  4.0411,  9.0714,  9.1573]),\n",
    "        # indices=tensor([0, 0, 0, 0, 0, 0, 0, 0, 0, 0, 1, 1, 1, 1, 1, 1]))\n",
    "        #torch.max(a,1)返回a每一行最大的元素值和索引\n",
    "        #而这里索引刚好可以和0，1标签对应\n",
    "        _,predicted = torch.max(outputs.data,1)\n",
    "        total += labels.size(0)\n",
    "        correct += (predicted == labels).squeeze().sum().numpy()\n",
    "\n",
    "        loss_mean += loss.item()\n",
    "        train_curve.append(loss.item())\n",
    "        if (i+1)%log_interval == 0:\n",
    "            loss_mean = loss_mean/log_interval\n",
    "            print(\"Training:Epoch[{:0>3}/{:0>3}] Iteration[{:0>3}/{:0>3}] Loss: {:.4f} Acc:{:.2%}\".format(\n",
    "                epoch, max_epoch, i+1, len(train_loader), loss_mean, correct / total))\n",
    "            loss_mean = 0.\n",
    "\n",
    "    scheduler.step()\n",
    "\n",
    "    if (epoch+1)%val_interval == 0:\n",
    "\n",
    "            correct_val = 0.\n",
    "            total_val = 0.\n",
    "            loss_val = 0.\n",
    "            net.eval()\n",
    "            with torch.no_grad():\n",
    "                for j,data in enumerate(valid_loader):\n",
    "                    inputs,labels = data\n",
    "                    outputs = net(inputs)\n",
    "                    loss = criterion(outputs,labels)\n",
    "\n",
    "                    _,predicted = torch.max(outputs.data,1)\n",
    "                    total_val += labels.size(0)\n",
    "                    correct_val += (predicted == labels).squeeze().sum().numpy()\n",
    "\n",
    "                    loss_val += loss.item()\n",
    "\n",
    "                loss_val_epoch = loss_val / len(valid_loader)\n",
    "                valid_curve.append(loss_val_epoch)\n",
    "\n",
    "                print(\"Valid:\\t Epoch[{:0>3}/{:0>3}] Iteration[{:0>3}/{:0>3}] Loss: {:.4f} Acc:{:.2%}\".format(\n",
    "                epoch, max_epoch, j+1, len(valid_loader), loss_val_epoch, correct_val / total_val))\n",
    "\n"
   ]
  },
  {
   "cell_type": "code",
   "execution_count": 36,
   "metadata": {},
   "outputs": [
    {
     "name": "stdout",
     "output_type": "stream",
     "text": [
      "torch.Size([16, 2])\n",
      "tensor([True, True, True, True, True, True, True, True, True, True, True, True,\n",
      "        True, True, True, True])\n",
      "16\n",
      "torch.Size([4, 2])\n",
      "tensor([True, True, True, True])\n",
      "4\n"
     ]
    }
   ],
   "source": [
    "net.eval()\n",
    "with torch.no_grad():\n",
    "    for j,data in enumerate(valid_loader):\n",
    "        inputs,labels = data\n",
    "        outputs = net(inputs)\n",
    "        print(outputs.data.shape)\n",
    "        _ , t = torch.max(outputs.data,1)\n",
    "        a = (t == labels)\n",
    "        print(a)\n",
    "        a = a.squeeze().sum().numpy()\n",
    "        print(a)"
   ]
  },
  {
   "cell_type": "code",
   "execution_count": 32,
   "metadata": {},
   "outputs": [
    {
     "name": "stdout",
     "output_type": "stream",
     "text": [
      "0\n",
      "1\n"
     ]
    }
   ],
   "source": [
    "net.eval()\n",
    "with torch.no_grad():\n",
    "    for j,data in enumerate(valid_loader):\n",
    "        print(j)"
   ]
  },
  {
   "cell_type": "code",
   "execution_count": 12,
   "metadata": {},
   "outputs": [
    {
     "name": "stdout",
     "output_type": "stream",
     "text": [
      "Training:Epoch[000/010] Iteration[010/010] Loss: 0.7085 Acc:55.00%\n",
      "Valid:\t Epoch[000/010] Iteration[002/002] Loss: 0.5607 Acc:65.00%\n",
      "Training:Epoch[001/010] Iteration[010/010] Loss: 0.5524 Acc:84.38%\n",
      "Valid:\t Epoch[001/010] Iteration[002/002] Loss: 0.3104 Acc:100.00%\n",
      "Training:Epoch[002/010] Iteration[010/010] Loss: 0.2175 Acc:96.88%\n",
      "Valid:\t Epoch[002/010] Iteration[002/002] Loss: 0.0396 Acc:95.00%\n",
      "Training:Epoch[003/010] Iteration[010/010] Loss: 0.2872 Acc:91.88%\n",
      "Valid:\t Epoch[003/010] Iteration[002/002] Loss: 0.0999 Acc:95.00%\n",
      "Training:Epoch[004/010] Iteration[010/010] Loss: 0.2935 Acc:88.12%\n",
      "Valid:\t Epoch[004/010] Iteration[002/002] Loss: 0.0432 Acc:100.00%\n",
      "Training:Epoch[005/010] Iteration[010/010] Loss: 0.1116 Acc:95.00%\n",
      "Valid:\t Epoch[005/010] Iteration[002/002] Loss: 0.0398 Acc:100.00%\n",
      "Training:Epoch[006/010] Iteration[010/010] Loss: 0.0399 Acc:98.75%\n",
      "Valid:\t Epoch[006/010] Iteration[002/002] Loss: 0.0044 Acc:100.00%\n",
      "Training:Epoch[007/010] Iteration[010/010] Loss: 0.0119 Acc:99.38%\n",
      "Valid:\t Epoch[007/010] Iteration[002/002] Loss: 0.0014 Acc:100.00%\n",
      "Training:Epoch[008/010] Iteration[010/010] Loss: 0.0035 Acc:100.00%\n",
      "Valid:\t Epoch[008/010] Iteration[002/002] Loss: 0.0003 Acc:100.00%\n",
      "Training:Epoch[009/010] Iteration[010/010] Loss: 0.0015 Acc:100.00%\n",
      "Valid:\t Epoch[009/010] Iteration[002/002] Loss: 0.0001 Acc:100.00%\n"
     ]
    }
   ],
   "source": [
    "for epoch in range(max_epoch):\n",
    "    loss_mean = 0.\n",
    "    correct = 0.\n",
    "    total = 0.\n",
    "    net.train()\n",
    "    \n",
    "    for i,data in enumerate(train_loader):\n",
    "        inputs,labels = data\n",
    "        outputs = net(inputs)\n",
    "\n",
    "        optimizer.zero_grad()\n",
    "        loss = criterion(outputs,labels)\n",
    "        loss.backward()\n",
    "\n",
    "        optimizer.step()\n",
    "\n",
    "        _,predicted = torch.max(outputs.data,1)\n",
    "\n",
    "        total += labels.size(0)\n",
    "        correct += (predicted == labels).squeeze().sum().numpy()\n",
    "        loss_mean += loss.item()\n",
    "        train_curve.append(loss.item())\n",
    "        if (i+1)%log_interval == 0:\n",
    "            loss_mean = loss_mean/log_interval\n",
    "            acc = correct/total\n",
    "            print(\"Training:Epoch[{:0>3}/{:0>3}] Iteration[{:0>3}/{:0>3}] Loss: {:.4f} Acc:{:.2%}\".format(\n",
    "                epoch, max_epoch, i+1, len(train_loader), loss_mean, correct / total))\n",
    "            loss_mean = 0.\n",
    "\n",
    "    scheduler.step()\n",
    "\n",
    "    if(epoch+1)%val_interval == 0:\n",
    "        loss_val = 0.\n",
    "        correct_val = 0.\n",
    "        total_val = 0.\n",
    "\n",
    "        net.eval()\n",
    "        with torch.no_grad():\n",
    "            for j,data in enumerate(valid_loader):\n",
    "                inputs,labels = data\n",
    "                outputs = net(inputs)\n",
    "\n",
    "                loss = criterion(outputs,labels)\n",
    "\n",
    "                _,predicted = torch.max(outputs.data,1)\n",
    "\n",
    "                total_val += labels.size(0)\n",
    "                correct_val += (predicted == labels).squeeze().sum().numpy()\n",
    "                loss_val += loss.item()\n",
    "\n",
    "            loss_val = loss_val/(len(valid_loader))\n",
    "            valid_curve.append(loss_val)\n",
    "            print(\"Valid:\\t Epoch[{:0>3}/{:0>3}] Iteration[{:0>3}/{:0>3}] Loss: {:.4f} Acc:{:.2%}\".format(\n",
    "                epoch, max_epoch, j+1, len(valid_loader), loss_val, correct_val / total_val))\n",
    "\n",
    "\n",
    "\n"
   ]
  },
  {
   "cell_type": "code",
   "execution_count": 13,
   "metadata": {},
   "outputs": [
    {
     "data": {
      "image/png": "[encoded data removed]",
      "text/plain": [
       "<Figure size 640x480 with 1 Axes>"
      ]
     },
     "metadata": {},
     "output_type": "display_data"
    }
   ],
   "source": [
    "train_x = range(len(train_curve))\n",
    "train_y = train_curve\n",
    "\n",
    "train_iters = len(train_loader)\n",
    "valid_x = np.arange(1, len(valid_curve)+1) * train_iters*val_interval - 1  # 由于valid中记录的是epochloss，需要对记录点进行转换到iterations\n",
    "valid_y = valid_curve\n",
    "\n",
    "plt.plot(train_x, train_y, label='Train')\n",
    "plt.plot(valid_x, valid_y, label='Valid')\n",
    "\n",
    "plt.legend(loc='upper right')\n",
    "plt.ylabel('loss value')\n",
    "plt.xlabel('Iteration')\n",
    "plt.show()"
   ]
  },
  {
   "cell_type": "code",
   "execution_count": 8,
   "metadata": {},
   "outputs": [
    {
     "name": "stdout",
     "output_type": "stream",
     "text": [
      "----------------------------------------------------------------\n",
      "        Layer (type)               Output Shape         Param #\n",
      "================================================================\n",
      "            Conv2d-1            [-1, 6, 28, 28]             456\n",
      "              ReLU-2            [-1, 6, 28, 28]               0\n",
      "         MaxPool2d-3            [-1, 6, 14, 14]               0\n",
      "            Conv2d-4           [-1, 16, 10, 10]           2,416\n",
      "              ReLU-5           [-1, 16, 10, 10]               0\n",
      "         MaxPool2d-6             [-1, 16, 5, 5]               0\n",
      "            Linear-7                  [-1, 120]          48,120\n",
      "              ReLU-8                  [-1, 120]               0\n",
      "            Linear-9                   [-1, 84]          10,164\n",
      "             ReLU-10                   [-1, 84]               0\n",
      "           Linear-11                    [-1, 2]             170\n",
      "================================================================\n",
      "Total params: 61,326\n",
      "Trainable params: 61,326\n",
      "Non-trainable params: 0\n",
      "----------------------------------------------------------------\n",
      "Input size (MB): 0.01\n",
      "Forward/backward pass size (MB): 0.11\n",
      "Params size (MB): 0.23\n",
      "Estimated Total Size (MB): 0.36\n",
      "----------------------------------------------------------------\n"
     ]
    }
   ],
   "source": [
    "from model.lenet import LeNetSequential\n",
    "net = LeNetSequential(classes=2)\n",
    "summary(net,input_size=(3,32,32))"
   ]
  },
  {
   "cell_type": "code",
   "execution_count": null,
   "metadata": {},
   "outputs": [],
   "source": []
  }
 ],
 "metadata": {
  "kernelspec": {
   "display_name": "pytorch",
   "language": "python",
   "name": "python3"
  },
  "language_info": {
   "codemirror_mode": {
    "name": "ipython",
    "version": 3
   },
   "file_extension": ".py",
   "mimetype": "text/x-python",
   "name": "python",
   "nbconvert_exporter": "python",
   "pygments_lexer": "ipython3",
   "version": "3.10.12"
  },
  "orig_nbformat": 4
 },
 "nbformat": 4,
 "nbformat_minor": 2
}
