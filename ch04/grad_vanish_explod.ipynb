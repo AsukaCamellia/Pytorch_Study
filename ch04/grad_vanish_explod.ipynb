{
 "cells": [
  {
   "cell_type": "code",
   "execution_count": 10,
   "metadata": {},
   "outputs": [],
   "source": [
    "import torch\n",
    "import torch.nn as nn\n",
    "import torch.functional as F\n",
    "import numpy as np\n",
    "import random\n",
    "import os,sys\n",
    "from torchsummary import summary"
   ]
  },
  {
   "cell_type": "code",
   "execution_count": 4,
   "metadata": {},
   "outputs": [],
   "source": [
    "base_dir = os.path.dirname(os.path.abspath('grad_vanish_explod.ipynb'))\n",
    "work_dir = os.path.dirname(base_dir)\n",
    "sys.path.append(work_dir)"
   ]
  },
  {
   "cell_type": "code",
   "execution_count": 8,
   "metadata": {},
   "outputs": [],
   "source": [
    "from tools.common_tools import set_seed\n",
    "set_seed(3407)"
   ]
  },
  {
   "cell_type": "code",
   "execution_count": 30,
   "metadata": {},
   "outputs": [],
   "source": [
    "class MLP(nn.Module):\n",
    "\n",
    "    def __init__(self,neural_num,layers) -> None:\n",
    "        super(MLP,self).__init__()\n",
    "        self.linears = nn.ModuleList([nn.Linear(neural_num,neural_num) for i in range(layers)])\n",
    "        self.neural_num = neural_num\n",
    "\n",
    "    def forward(self,x):\n",
    "        for i,linear in enumerate(self.linears):\n",
    "            x = linear(x)\n",
    "            x = torch.relu(x)\n",
    "\n",
    "            print('layers:{} , std:{}'.format(i,x.std()))\n",
    "            if torch.isnan(x.std()):\n",
    "                print('std is nan in layers:{}'.format(i))\n",
    "                break\n",
    "\n",
    "        return x\n",
    "    \n",
    "    def initialize(self):\n",
    "        for m in self.modules():\n",
    "            if isinstance(m,nn.Linear):\n",
    "                nn.init.kaiming_normal_(m.weight.data)"
   ]
  },
  {
   "cell_type": "code",
   "execution_count": 31,
   "metadata": {},
   "outputs": [],
   "source": [
    "layer_nums = 10\n",
    "neural_nums = 20\n",
    "batch_size = 16\n",
    "net = MLP(neural_num=neural_nums,layers=layer_nums)"
   ]
  },
  {
   "cell_type": "code",
   "execution_count": 36,
   "metadata": {},
   "outputs": [
    {
     "name": "stdout",
     "output_type": "stream",
     "text": [
      "layers:0 , std:0.18307073414325714\n",
      "layers:1 , std:0.0909644365310669\n",
      "layers:2 , std:0.0916116014122963\n",
      "layers:3 , std:0.06463372707366943\n",
      "layers:4 , std:0.07213423401117325\n",
      "layers:5 , std:0.09453681111335754\n",
      "layers:6 , std:0.0675988718867302\n",
      "layers:7 , std:0.07824891805648804\n",
      "layers:8 , std:0.05637740343809128\n",
      "layers:9 , std:0.09160798788070679\n",
      "----------------------------------------------------------------\n",
      "        Layer (type)               Output Shape         Param #\n",
      "================================================================\n",
      "            Linear-1               [16, 10, 20]             420\n",
      "            Linear-2               [16, 10, 20]             420\n",
      "            Linear-3               [16, 10, 20]             420\n",
      "            Linear-4               [16, 10, 20]             420\n",
      "            Linear-5               [16, 10, 20]             420\n",
      "            Linear-6               [16, 10, 20]             420\n",
      "            Linear-7               [16, 10, 20]             420\n",
      "            Linear-8               [16, 10, 20]             420\n",
      "            Linear-9               [16, 10, 20]             420\n",
      "           Linear-10               [16, 10, 20]             420\n",
      "================================================================\n",
      "Total params: 4,200\n",
      "Trainable params: 4,200\n",
      "Non-trainable params: 0\n",
      "----------------------------------------------------------------\n",
      "Input size (MB): 0.01\n",
      "Forward/backward pass size (MB): 0.24\n",
      "Params size (MB): 0.02\n",
      "Estimated Total Size (MB): 0.27\n",
      "----------------------------------------------------------------\n"
     ]
    }
   ],
   "source": [
    "summary(net,input_size=(10,20),batch_size=batch_size)"
   ]
  },
  {
   "cell_type": "code",
   "execution_count": 19,
   "metadata": {},
   "outputs": [],
   "source": [
    "net.initialize()"
   ]
  },
  {
   "cell_type": "code",
   "execution_count": 20,
   "metadata": {},
   "outputs": [
    {
     "name": "stdout",
     "output_type": "stream",
     "text": [
      "layers:0 , std:0.4215196669101715\n",
      "layers:1 , std:0.4067298173904419\n",
      "layers:2 , std:0.3231349289417267\n",
      "layers:3 , std:0.27762874960899353\n",
      "layers:4 , std:0.22679096460342407\n",
      "layers:5 , std:0.24510356783866882\n",
      "layers:6 , std:0.20481672883033752\n",
      "layers:7 , std:0.2281114161014557\n",
      "layers:8 , std:0.28698694705963135\n",
      "layers:9 , std:0.3048616945743561\n",
      "----------------------------------------------------------------\n",
      "        Layer (type)               Output Shape         Param #\n",
      "================================================================\n",
      "            Linear-1               [16, 10, 20]             420\n",
      "            Linear-2               [16, 10, 20]             420\n",
      "            Linear-3               [16, 10, 20]             420\n",
      "            Linear-4               [16, 10, 20]             420\n",
      "            Linear-5               [16, 10, 20]             420\n",
      "            Linear-6               [16, 10, 20]             420\n",
      "            Linear-7               [16, 10, 20]             420\n",
      "            Linear-8               [16, 10, 20]             420\n",
      "            Linear-9               [16, 10, 20]             420\n",
      "           Linear-10               [16, 10, 20]             420\n",
      "================================================================\n",
      "Total params: 4,200\n",
      "Trainable params: 4,200\n",
      "Non-trainable params: 0\n",
      "----------------------------------------------------------------\n",
      "Input size (MB): 0.01\n",
      "Forward/backward pass size (MB): 0.24\n",
      "Params size (MB): 0.02\n",
      "Estimated Total Size (MB): 0.27\n",
      "----------------------------------------------------------------\n"
     ]
    }
   ],
   "source": [
    "summary(net,input_size=(10,20),batch_size=batch_size)"
   ]
  },
  {
   "cell_type": "code",
   "execution_count": 29,
   "metadata": {},
   "outputs": [
    {
     "name": "stdout",
     "output_type": "stream",
     "text": [
      "gain:1.5884541273117065\n",
      "tanh_gain in pytorch: 1.6666666666666667\n"
     ]
    }
   ],
   "source": [
    "x = torch.randn(1000)\n",
    "out = torch.tanh(x)\n",
    "gain = x.std() / out.std()\n",
    "print('gain:{}'.format(gain))\n",
    "\n",
    "tanh_gain = nn.init.calculate_gain('tanh')\n",
    "print('tanh_gain in pytorch:',tanh_gain)"
   ]
  },
  {
   "cell_type": "code",
   "execution_count": null,
   "metadata": {},
   "outputs": [],
   "source": []
  }
 ],
 "metadata": {
  "kernelspec": {
   "display_name": "pytorch",
   "language": "python",
   "name": "python3"
  },
  "language_info": {
   "codemirror_mode": {
    "name": "ipython",
    "version": 3
   },
   "file_extension": ".py",
   "mimetype": "text/x-python",
   "name": "python",
   "nbconvert_exporter": "python",
   "pygments_lexer": "ipython3",
   "version": "3.10.12"
  },
  "orig_nbformat": 4
 },
 "nbformat": 4,
 "nbformat_minor": 2
}
