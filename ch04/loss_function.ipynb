{
 "cells": [
  {
   "cell_type": "code",
   "execution_count": 1,
   "metadata": {},
   "outputs": [],
   "source": [
    "import torch\n",
    "import torch.nn as nn\n",
    "import numpy as np\n",
    "import torch.functional as F\n",
    "import torch.optim as optim\n",
    "import random\n",
    "import os,sys"
   ]
  },
  {
   "cell_type": "code",
   "execution_count": 2,
   "metadata": {},
   "outputs": [
    {
     "name": "stderr",
     "output_type": "stream",
     "text": [
      "d:\\Anaconda3\\envs\\pytorch\\lib\\site-packages\\torchvision\\io\\image.py:13: UserWarning: Failed to load image Python extension: [WinError 127] 找不到指定的程序。\n",
      "  warn(f\"Failed to load image Python extension: {e}\")\n"
     ]
    }
   ],
   "source": [
    "base_dir = os.path.dirname(os.path.abspath('loss_function.ipynb'))\n",
    "work_dir = os.path.dirname(base_dir)\n",
    "sys.path.append(work_dir)\n",
    "from tools.common_tools import set_seed\n",
    "set_seed(3407)"
   ]
  },
  {
   "cell_type": "code",
   "execution_count": 3,
   "metadata": {},
   "outputs": [],
   "source": [
    "inputs = torch.tensor([[1,2],[1,3],[1,3]],dtype=torch.float)\n",
    "target = torch.tensor([0,1,1],dtype=torch.long)"
   ]
  },
  {
   "cell_type": "code",
   "execution_count": 4,
   "metadata": {},
   "outputs": [
    {
     "data": {
      "text/plain": [
       "(tensor([1.3133, 0.1269, 0.1269]), tensor(1.5671), tensor(0.5224))"
      ]
     },
     "execution_count": 4,
     "metadata": {},
     "output_type": "execute_result"
    }
   ],
   "source": [
    "loss_f_none = nn.CrossEntropyLoss(weight=None,reduction='none')\n",
    "loss_f_sum = nn.CrossEntropyLoss(weight=None,reduction='sum')\n",
    "loss_f_mean = nn.CrossEntropyLoss(weight=None,reduction='mean')\n",
    "\n",
    "loss_none = loss_f_none(inputs,target)\n",
    "loss_sum = loss_f_sum(inputs,target)\n",
    "loss_mean = loss_f_mean(inputs,target)\n",
    "\n",
    "loss_none,loss_sum,loss_mean"
   ]
  },
  {
   "cell_type": "markdown",
   "metadata": {},
   "source": [
    "loss function\n",
    "\n",
    "cost function\n",
    "\n",
    "obj = cost + regularization"
   ]
  },
  {
   "cell_type": "code",
   "execution_count": 10,
   "metadata": {},
   "outputs": [
    {
     "data": {
      "text/plain": [
       "1.3132617"
      ]
     },
     "execution_count": 10,
     "metadata": {},
     "output_type": "execute_result"
    }
   ],
   "source": [
    "idx = 0 \n",
    "x1 = inputs.detach().numpy()[idx]\n",
    "y1 = target.numpy()[idx]\n",
    "\n",
    "x1 = x1 - np.max(x1)\n",
    "x1 = np.exp(x1)/np.sum(np.exp(x1))\n",
    "loss = -np.log(x1[y1])\n",
    "loss\n"
   ]
  },
  {
   "cell_type": "code",
   "execution_count": 11,
   "metadata": {},
   "outputs": [
    {
     "data": {
      "text/plain": [
       "(tensor([1.3133, 0.2539, 0.2539]), tensor(1.8210), tensor(0.3642))"
      ]
     },
     "execution_count": 11,
     "metadata": {},
     "output_type": "execute_result"
    }
   ],
   "source": [
    "weights = torch.tensor([1,2],dtype=torch.float)\n",
    "loss_f_none = nn.CrossEntropyLoss(weight=weights,reduction='none')\n",
    "loss_f_sum = nn.CrossEntropyLoss(weight=weights,reduction='sum')\n",
    "loss_f_mean = nn.CrossEntropyLoss(weight=weights,reduction='mean')\n",
    "\n",
    "loss_none = loss_f_none(inputs,target)\n",
    "loss_sum = loss_f_sum(inputs,target)\n",
    "loss_mean = loss_f_mean(inputs,target)\n",
    "\n",
    "loss_none,loss_sum,loss_mean"
   ]
  }
 ],
 "metadata": {
  "kernelspec": {
   "display_name": "pytorch",
   "language": "python",
   "name": "python3"
  },
  "language_info": {
   "codemirror_mode": {
    "name": "ipython",
    "version": 3
   },
   "file_extension": ".py",
   "mimetype": "text/x-python",
   "name": "python",
   "nbconvert_exporter": "python",
   "pygments_lexer": "ipython3",
   "version": "3.10.12"
  },
  "orig_nbformat": 4
 },
 "nbformat": 4,
 "nbformat_minor": 2
}
