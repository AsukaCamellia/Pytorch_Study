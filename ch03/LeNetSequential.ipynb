{
 "cells": [
  {
   "cell_type": "code",
   "execution_count": 8,
   "metadata": {},
   "outputs": [],
   "source": [
    "import torch\n",
    "import torch.nn as nn\n",
    "import numpy as np\n",
    "import torch.nn.functional as F\n",
    "from torchsummary import summary\n",
    "import torchvision\n",
    "from collections import OrderedDict"
   ]
  },
  {
   "cell_type": "markdown",
   "metadata": {},
   "source": [
    "nn.Sequential：顺序性 个网络层之间严格按顺序执行，常用于block构建"
   ]
  },
  {
   "cell_type": "code",
   "execution_count": 4,
   "metadata": {},
   "outputs": [],
   "source": [
    "class LeNetSequential(nn.Module):\n",
    "\n",
    "    def __init__(self, classes) -> None:\n",
    "        super(LeNetSequential,self).__init__()\n",
    "        self.features = nn.Sequential(\n",
    "            nn.Conv2d(3,6,5),\n",
    "            nn.ReLU(),\n",
    "            nn.MaxPool2d(kernel_size=2,stride=2),\n",
    "            nn.Conv2d(6,16,5),\n",
    "            nn.ReLU(),\n",
    "            nn.MaxPool2d(kernel_size=2,stride=2),\n",
    "        )\n",
    "\n",
    "        self.classifier = nn.Sequential(\n",
    "            nn.Linear(16*5*5,120),\n",
    "            nn.ReLU(),\n",
    "            nn.Linear(120,84),\n",
    "            nn.ReLU(),\n",
    "            nn.Linear(84,classes),\n",
    "        )\n",
    "\n",
    "    def forward(self,x):\n",
    "        x = self.features(x)\n",
    "        x = x.view(x.size(0),-1)\n",
    "        x = self.classifier(x)\n",
    "\n",
    "        return x"
   ]
  },
  {
   "cell_type": "code",
   "execution_count": 6,
   "metadata": {},
   "outputs": [
    {
     "name": "stdout",
     "output_type": "stream",
     "text": [
      "----------------------------------------------------------------\n",
      "        Layer (type)               Output Shape         Param #\n",
      "================================================================\n",
      "            Conv2d-1            [16, 6, 28, 28]             456\n",
      "              ReLU-2            [16, 6, 28, 28]               0\n",
      "         MaxPool2d-3            [16, 6, 14, 14]               0\n",
      "            Conv2d-4           [16, 16, 10, 10]           2,416\n",
      "              ReLU-5           [16, 16, 10, 10]               0\n",
      "         MaxPool2d-6             [16, 16, 5, 5]               0\n",
      "            Linear-7                  [16, 120]          48,120\n",
      "              ReLU-8                  [16, 120]               0\n",
      "            Linear-9                   [16, 84]          10,164\n",
      "             ReLU-10                   [16, 84]               0\n",
      "           Linear-11                    [16, 2]             170\n",
      "================================================================\n",
      "Total params: 61,326\n",
      "Trainable params: 61,326\n",
      "Non-trainable params: 0\n",
      "----------------------------------------------------------------\n",
      "Input size (MB): 0.19\n",
      "Forward/backward pass size (MB): 1.78\n",
      "Params size (MB): 0.23\n",
      "Estimated Total Size (MB): 2.20\n",
      "----------------------------------------------------------------\n"
     ]
    }
   ],
   "source": [
    "net = LeNetSequential(2)\n",
    "summary(net,input_size=(3,32,32),batch_size=16)"
   ]
  },
  {
   "cell_type": "code",
   "execution_count": 11,
   "metadata": {},
   "outputs": [],
   "source": [
    "class LeNetSequentialOrderDict(nn.Module):\n",
    "\n",
    "    def __init__(self, classes) -> None:\n",
    "        super(LeNetSequentialOrderDict,self).__init__()\n",
    "\n",
    "        self.features = nn.Sequential(OrderedDict({\n",
    "            'conv1':nn.Conv2d(3,6,5),\n",
    "            'relu1':nn.ReLU(inplace=True),\n",
    "            'pool1':nn.MaxPool2d(kernel_size=2,stride=2),\n",
    "\n",
    "            'conv2': nn.Conv2d(6, 16, 5),\n",
    "            'relu2': nn.ReLU(inplace=True),\n",
    "            'pool2': nn.MaxPool2d(kernel_size=2, stride=2),\n",
    "        }))\n",
    "\n",
    "        self.classifier = nn.Sequential(OrderedDict({\n",
    "            'fc1': nn.Linear(16*5*5, 120),\n",
    "            'relu3': nn.ReLU(),\n",
    "\n",
    "            'fc2': nn.Linear(120, 84),\n",
    "            'relu4': nn.ReLU(inplace=True),\n",
    "\n",
    "            'fc3': nn.Linear(84, classes),\n",
    "        }))\n",
    "\n",
    "    def forward(self, x):\n",
    "        x = self.features(x)\n",
    "        x = x.view(x.size()[0], -1)\n",
    "        x = self.classifier(x)\n",
    "        return x"
   ]
  },
  {
   "cell_type": "code",
   "execution_count": 12,
   "metadata": {},
   "outputs": [
    {
     "name": "stdout",
     "output_type": "stream",
     "text": [
      "----------------------------------------------------------------\n",
      "        Layer (type)               Output Shape         Param #\n",
      "================================================================\n",
      "            Conv2d-1            [16, 6, 28, 28]             456\n",
      "              ReLU-2            [16, 6, 28, 28]               0\n",
      "         MaxPool2d-3            [16, 6, 14, 14]               0\n",
      "            Conv2d-4           [16, 16, 10, 10]           2,416\n",
      "              ReLU-5           [16, 16, 10, 10]               0\n",
      "         MaxPool2d-6             [16, 16, 5, 5]               0\n",
      "            Linear-7                  [16, 120]          48,120\n",
      "              ReLU-8                  [16, 120]               0\n",
      "            Linear-9                   [16, 84]          10,164\n",
      "             ReLU-10                   [16, 84]               0\n",
      "           Linear-11                    [16, 2]             170\n",
      "================================================================\n",
      "Total params: 61,326\n",
      "Trainable params: 61,326\n",
      "Non-trainable params: 0\n",
      "----------------------------------------------------------------\n",
      "Input size (MB): 0.19\n",
      "Forward/backward pass size (MB): 1.78\n",
      "Params size (MB): 0.23\n",
      "Estimated Total Size (MB): 2.20\n",
      "----------------------------------------------------------------\n"
     ]
    }
   ],
   "source": [
    "net = LeNetSequentialOrderDict(classes=2)\n",
    "summary(net,input_size=(3,32,32),batch_size=16)"
   ]
  },
  {
   "cell_type": "markdown",
   "metadata": {},
   "source": [
    "nn.ModuleList：迭代性，常用于大量重复网络构建 通过for循环实现重复构建"
   ]
  },
  {
   "cell_type": "code",
   "execution_count": 13,
   "metadata": {},
   "outputs": [],
   "source": [
    "class ModuleList(nn.Module):\n",
    "    \n",
    "    def __init__(self) -> None:\n",
    "        super(ModuleList,self).__init__()\n",
    "        self.linears = nn.ModuleList([nn.Linear(10,10) for i in range(20)])\n",
    "\n",
    "    def forward(self,x):\n",
    "        for i,linear in enumerate(self.linears):\n",
    "            x = linear(x)\n",
    "\n",
    "        return x"
   ]
  },
  {
   "cell_type": "code",
   "execution_count": 16,
   "metadata": {},
   "outputs": [
    {
     "name": "stdout",
     "output_type": "stream",
     "text": [
      "----------------------------------------------------------------\n",
      "        Layer (type)               Output Shape         Param #\n",
      "================================================================\n",
      "            Linear-1                [16, 4, 10]             110\n",
      "            Linear-2                [16, 4, 10]             110\n",
      "            Linear-3                [16, 4, 10]             110\n",
      "            Linear-4                [16, 4, 10]             110\n",
      "            Linear-5                [16, 4, 10]             110\n",
      "            Linear-6                [16, 4, 10]             110\n",
      "            Linear-7                [16, 4, 10]             110\n",
      "            Linear-8                [16, 4, 10]             110\n",
      "            Linear-9                [16, 4, 10]             110\n",
      "           Linear-10                [16, 4, 10]             110\n",
      "           Linear-11                [16, 4, 10]             110\n",
      "           Linear-12                [16, 4, 10]             110\n",
      "           Linear-13                [16, 4, 10]             110\n",
      "           Linear-14                [16, 4, 10]             110\n",
      "           Linear-15                [16, 4, 10]             110\n",
      "           Linear-16                [16, 4, 10]             110\n",
      "           Linear-17                [16, 4, 10]             110\n",
      "           Linear-18                [16, 4, 10]             110\n",
      "           Linear-19                [16, 4, 10]             110\n",
      "           Linear-20                [16, 4, 10]             110\n",
      "================================================================\n",
      "Total params: 2,200\n",
      "Trainable params: 2,200\n",
      "Non-trainable params: 0\n",
      "----------------------------------------------------------------\n",
      "Input size (MB): 0.00\n",
      "Forward/backward pass size (MB): 0.10\n",
      "Params size (MB): 0.01\n",
      "Estimated Total Size (MB): 0.11\n",
      "----------------------------------------------------------------\n"
     ]
    }
   ],
   "source": [
    "net = ModuleList()\n",
    "summary(net,input_size=(4,10),batch_size=16)"
   ]
  },
  {
   "cell_type": "markdown",
   "metadata": {},
   "source": [
    "nn.ModuleDict：索引性，常用于可选择的网络层"
   ]
  },
  {
   "cell_type": "code",
   "execution_count": 18,
   "metadata": {},
   "outputs": [],
   "source": [
    "class ModuleDict(nn.Module):\n",
    "\n",
    "    def __init__(self) -> None:\n",
    "        super(ModuleDict,self).__init__()\n",
    "\n",
    "        self.choices = nn.ModuleDict({\n",
    "            'conv':nn.Conv2d(10,10,3),\n",
    "            'pool':nn.MaxPool2d(3),\n",
    "        })\n",
    "\n",
    "        self.activations = nn.ModuleDict({\n",
    "            'relu':nn.ReLU(),\n",
    "            'prelu':nn.PReLU()\n",
    "        })\n",
    "\n",
    "    def forward(self,x,choice,act):\n",
    "        x = self.choices[choice](x)\n",
    "        x = self.activations[act](x)\n",
    "        return x"
   ]
  },
  {
   "cell_type": "code",
   "execution_count": 23,
   "metadata": {},
   "outputs": [
    {
     "data": {
      "text/plain": [
       "torch.Size([16, 10, 30, 30])"
      ]
     },
     "execution_count": 23,
     "metadata": {},
     "output_type": "execute_result"
    }
   ],
   "source": [
    "net = ModuleDict()\n",
    "fake_img = torch.randn((16,10,32,32))\n",
    "output = net(fake_img,'conv','relu')\n",
    "output.shape"
   ]
  },
  {
   "cell_type": "markdown",
   "metadata": {},
   "source": [
    "AlexNet"
   ]
  },
  {
   "cell_type": "code",
   "execution_count": 27,
   "metadata": {},
   "outputs": [
    {
     "name": "stdout",
     "output_type": "stream",
     "text": [
      "----------------------------------------------------------------\n",
      "        Layer (type)               Output Shape         Param #\n",
      "================================================================\n",
      "            Conv2d-1            [4, 64, 55, 55]          23,296\n",
      "              ReLU-2            [4, 64, 55, 55]               0\n",
      "         MaxPool2d-3            [4, 64, 27, 27]               0\n",
      "            Conv2d-4           [4, 192, 27, 27]         307,392\n",
      "              ReLU-5           [4, 192, 27, 27]               0\n",
      "         MaxPool2d-6           [4, 192, 13, 13]               0\n",
      "            Conv2d-7           [4, 384, 13, 13]         663,936\n",
      "              ReLU-8           [4, 384, 13, 13]               0\n",
      "            Conv2d-9           [4, 256, 13, 13]         884,992\n",
      "             ReLU-10           [4, 256, 13, 13]               0\n",
      "           Conv2d-11           [4, 256, 13, 13]         590,080\n",
      "             ReLU-12           [4, 256, 13, 13]               0\n",
      "        MaxPool2d-13             [4, 256, 6, 6]               0\n",
      "AdaptiveAvgPool2d-14             [4, 256, 6, 6]               0\n",
      "          Dropout-15                  [4, 9216]               0\n",
      "           Linear-16                  [4, 4096]      37,752,832\n",
      "             ReLU-17                  [4, 4096]               0\n",
      "          Dropout-18                  [4, 4096]               0\n",
      "           Linear-19                  [4, 4096]      16,781,312\n",
      "             ReLU-20                  [4, 4096]               0\n",
      "           Linear-21                  [4, 1000]       4,097,000\n",
      "================================================================\n",
      "Total params: 61,100,840\n",
      "Trainable params: 61,100,840\n",
      "Non-trainable params: 0\n",
      "----------------------------------------------------------------\n",
      "Input size (MB): 2.30\n",
      "Forward/backward pass size (MB): 33.51\n",
      "Params size (MB): 233.08\n",
      "Estimated Total Size (MB): 268.89\n",
      "----------------------------------------------------------------\n"
     ]
    }
   ],
   "source": [
    "alexnet = torchvision.models.AlexNet()\n",
    "summary(alexnet,input_size=(3,224,224),batch_size=4)"
   ]
  },
  {
   "cell_type": "markdown",
   "metadata": {},
   "source": []
  }
 ],
 "metadata": {
  "kernelspec": {
   "display_name": "pytorch",
   "language": "python",
   "name": "python3"
  },
  "language_info": {
   "codemirror_mode": {
    "name": "ipython",
    "version": 3
   },
   "file_extension": ".py",
   "mimetype": "text/x-python",
   "name": "python",
   "nbconvert_exporter": "python",
   "pygments_lexer": "ipython3",
   "version": "3.10.12"
  },
  "orig_nbformat": 4
 },
 "nbformat": 4,
 "nbformat_minor": 2
}
