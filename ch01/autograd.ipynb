{
 "cells": [
  {
   "cell_type": "code",
   "execution_count": 1,
   "metadata": {},
   "outputs": [],
   "source": [
    "import torch\n",
    "import numpy as np\n",
    "import matplotlib.pyplot as plt"
   ]
  },
  {
   "cell_type": "markdown",
   "metadata": {},
   "source": [
    "torch.autograd.backward() 自动求取梯度 params：\n",
    "\n",
    "tensors：用于求导的张量，如loss\n",
    "\n",
    "retain_graph:保存计算图\n",
    "\n",
    "create_graph:创建导数计算图，用于高阶求导\n",
    "\n",
    "grad_tensors:多维度权值"
   ]
  },
  {
   "cell_type": "code",
   "execution_count": 9,
   "metadata": {},
   "outputs": [
    {
     "ename": "RuntimeError",
     "evalue": "Trying to backward through the graph a second time (or directly access saved tensors after they have already been freed). Saved intermediate values of the graph are freed when you call .backward() or autograd.grad(). Specify retain_graph=True if you need to backward through the graph a second time or if you need to access saved tensors after calling backward.",
     "output_type": "error",
     "traceback": [
      "\u001b[1;31m---------------------------------------------------------------------------\u001b[0m",
      "\u001b[1;31mRuntimeError\u001b[0m                              Traceback (most recent call last)",
      "Cell \u001b[1;32mIn[9], line 9\u001b[0m\n\u001b[0;32m      7\u001b[0m y \u001b[39m=\u001b[39m torch\u001b[39m.\u001b[39mmul(a,b)\n\u001b[0;32m      8\u001b[0m y\u001b[39m.\u001b[39mbackward()\n\u001b[1;32m----> 9\u001b[0m y\u001b[39m.\u001b[39;49mbackward()\n\u001b[0;32m     10\u001b[0m \u001b[39mprint\u001b[39m(w\u001b[39m.\u001b[39mgrad)\n",
      "File \u001b[1;32md:\\Anaconda3\\envs\\pytorch\\lib\\site-packages\\torch\\_tensor.py:487\u001b[0m, in \u001b[0;36mTensor.backward\u001b[1;34m(self, gradient, retain_graph, create_graph, inputs)\u001b[0m\n\u001b[0;32m    477\u001b[0m \u001b[39mif\u001b[39;00m has_torch_function_unary(\u001b[39mself\u001b[39m):\n\u001b[0;32m    478\u001b[0m     \u001b[39mreturn\u001b[39;00m handle_torch_function(\n\u001b[0;32m    479\u001b[0m         Tensor\u001b[39m.\u001b[39mbackward,\n\u001b[0;32m    480\u001b[0m         (\u001b[39mself\u001b[39m,),\n\u001b[1;32m   (...)\u001b[0m\n\u001b[0;32m    485\u001b[0m         inputs\u001b[39m=\u001b[39minputs,\n\u001b[0;32m    486\u001b[0m     )\n\u001b[1;32m--> 487\u001b[0m torch\u001b[39m.\u001b[39;49mautograd\u001b[39m.\u001b[39;49mbackward(\n\u001b[0;32m    488\u001b[0m     \u001b[39mself\u001b[39;49m, gradient, retain_graph, create_graph, inputs\u001b[39m=\u001b[39;49minputs\n\u001b[0;32m    489\u001b[0m )\n",
      "File \u001b[1;32md:\\Anaconda3\\envs\\pytorch\\lib\\site-packages\\torch\\autograd\\__init__.py:200\u001b[0m, in \u001b[0;36mbackward\u001b[1;34m(tensors, grad_tensors, retain_graph, create_graph, grad_variables, inputs)\u001b[0m\n\u001b[0;32m    195\u001b[0m     retain_graph \u001b[39m=\u001b[39m create_graph\n\u001b[0;32m    197\u001b[0m \u001b[39m# The reason we repeat same the comment below is that\u001b[39;00m\n\u001b[0;32m    198\u001b[0m \u001b[39m# some Python versions print out the first line of a multi-line function\u001b[39;00m\n\u001b[0;32m    199\u001b[0m \u001b[39m# calls in the traceback and some print out the last line\u001b[39;00m\n\u001b[1;32m--> 200\u001b[0m Variable\u001b[39m.\u001b[39;49m_execution_engine\u001b[39m.\u001b[39;49mrun_backward(  \u001b[39m# Calls into the C++ engine to run the backward pass\u001b[39;49;00m\n\u001b[0;32m    201\u001b[0m     tensors, grad_tensors_, retain_graph, create_graph, inputs,\n\u001b[0;32m    202\u001b[0m     allow_unreachable\u001b[39m=\u001b[39;49m\u001b[39mTrue\u001b[39;49;00m, accumulate_grad\u001b[39m=\u001b[39;49m\u001b[39mTrue\u001b[39;49;00m)\n",
      "\u001b[1;31mRuntimeError\u001b[0m: Trying to backward through the graph a second time (or directly access saved tensors after they have already been freed). Saved intermediate values of the graph are freed when you call .backward() or autograd.grad(). Specify retain_graph=True if you need to backward through the graph a second time or if you need to access saved tensors after calling backward."
     ]
    }
   ],
   "source": [
    "w = torch.tensor([1.],requires_grad=True)\n",
    "x = torch.tensor([2.],requires_grad=True)\n",
    "\n",
    "a = torch.add(w,x)\n",
    "b = torch.add(w,1)\n",
    "\n",
    "y = torch.mul(a,b)\n",
    "y.backward()\n",
    "y.backward()\n",
    "print(w.grad)"
   ]
  },
  {
   "cell_type": "markdown",
   "metadata": {},
   "source": [
    "点进y.backward()方法中会发现tensor.backward() 他就是调用了torch.autograd.backward()方法"
   ]
  },
  {
   "cell_type": "code",
   "execution_count": 14,
   "metadata": {},
   "outputs": [
    {
     "name": "stdout",
     "output_type": "stream",
     "text": [
      "tensor([5.])\n",
      "tensor([10.])\n"
     ]
    }
   ],
   "source": [
    "w = torch.tensor([1.],requires_grad=True)\n",
    "x = torch.tensor([2.],requires_grad=True)\n",
    "\n",
    "a = torch.add(w,x)\n",
    "b = torch.add(w,1)\n",
    "\n",
    "y = torch.mul(a,b)\n",
    "y.backward(retain_graph=True)\n",
    "print(w.grad)\n",
    "y.backward()\n",
    "print(w.grad)"
   ]
  },
  {
   "cell_type": "code",
   "execution_count": 24,
   "metadata": {},
   "outputs": [
    {
     "name": "stdout",
     "output_type": "stream",
     "text": [
      "tensor([7.])\n"
     ]
    }
   ],
   "source": [
    "w = torch.tensor([1.],requires_grad=True)\n",
    "x = torch.tensor([2.],requires_grad=True)\n",
    "\n",
    "a = torch.add(w,x)\n",
    "b = torch.add(w,1)\n",
    "\n",
    "y0 = torch.mul(a,b)\n",
    "y0.retain_grad()\n",
    "y1 = torch.add(a,b)\n",
    "y1.retain_grad()\n",
    "\n",
    "loss = torch.cat([y0,y1],dim=0)\n",
    "\n",
    "grad_tensors = torch.tensor([1.,1.])\n",
    "#grad_tensors = torch.tensor([1.,2.])  结果就变成9了  \n",
    "loss.backward(gradient=grad_tensors)\n",
    "\n",
    "print(w.grad)\n",
    "\n",
    "#对y0和y1求导 其中y0对w的导数是5 y1对w的导数是2 之后和梯度权重grad_tensors相乘\n",
    "#就是5*1 + 2*1 \n",
    "#结果返回的是y0和y1综合起来的梯度"
   ]
  },
  {
   "cell_type": "markdown",
   "metadata": {},
   "source": [
    "torch.autograd.grad 求取梯度 params：\n",
    "\n",
    "outputs：用于求导的张量 如loss\n",
    "\n",
    "input：需要求梯度的张量\n",
    "\n",
    "create_graph:创建导数计算图 用于高阶求导\n",
    "\n",
    "retain_graph:保存计算图\n",
    "\n",
    "grad_outputs:多梯度权重"
   ]
  },
  {
   "cell_type": "code",
   "execution_count": 30,
   "metadata": {},
   "outputs": [
    {
     "data": {
      "text/plain": [
       "((tensor([6.], grad_fn=<MulBackward0>),),\n",
       " (tensor([2.], grad_fn=<MulBackward0>),),\n",
       " (tensor([0.]),))"
      ]
     },
     "execution_count": 30,
     "metadata": {},
     "output_type": "execute_result"
    }
   ],
   "source": [
    "x = torch.tensor([3.],requires_grad=True)\n",
    "y = torch.pow(x,2)\n",
    "\n",
    "#只有创建了导数的计算图才能继续求高阶导数\n",
    "grad_1 = torch.autograd.grad(y,x,create_graph=True)\n",
    "\n",
    "grad_2 = torch.autograd.grad(grad_1[0],x,create_graph=True)\n",
    "#grad_2 = torch.autograd.grad(grad_1,x)\n",
    "\n",
    "#如果grad_2中不设置create_graph=True grad_3会报错\n",
    "grad_3 = torch.autograd.grad(grad_2,x)\n",
    "\n",
    "grad_1,grad_2,grad_3"
   ]
  },
  {
   "cell_type": "markdown",
   "metadata": {},
   "source": [
    "autograd：\n",
    "\n",
    "1.梯度不自动清零 所以之前连续反向传播两次梯度叠加了\n",
    "\n",
    "2.依赖于叶子结点的节点 requires_grad默认True\n",
    "\n",
    "3.叶子结点不可执行in-place"
   ]
  },
  {
   "cell_type": "code",
   "execution_count": 33,
   "metadata": {},
   "outputs": [
    {
     "name": "stdout",
     "output_type": "stream",
     "text": [
      "tensor([5.])\n",
      "tensor([10.])\n",
      "tensor([15.])\n",
      "tensor([20.])\n"
     ]
    }
   ],
   "source": [
    "w = torch.tensor([1.],requires_grad=True)\n",
    "x = torch.tensor([2.],requires_grad=True)\n",
    "\n",
    "for i in range(4):\n",
    "    a = torch.add(w,x)\n",
    "    b = torch.add(w,1)\n",
    "    y = torch.mul(a,b)\n",
    "\n",
    "    y.backward()\n",
    "    print(w.grad)"
   ]
  },
  {
   "cell_type": "code",
   "execution_count": 35,
   "metadata": {},
   "outputs": [
    {
     "name": "stdout",
     "output_type": "stream",
     "text": [
      "tensor([5.])\n",
      "tensor([5.])\n",
      "tensor([5.])\n",
      "tensor([5.])\n"
     ]
    }
   ],
   "source": [
    "w = torch.tensor([1.],requires_grad=True)\n",
    "x = torch.tensor([2.],requires_grad=True)\n",
    "\n",
    "for i in range(4):\n",
    "    a = torch.add(w,x)\n",
    "    b = torch.add(w,1)\n",
    "    y = torch.mul(a,b)\n",
    "\n",
    "    y.backward()\n",
    "    print(w.grad)\n",
    "#zero_ 这个_下划线表示原地操作\n",
    "    w.grad.zero_()"
   ]
  },
  {
   "cell_type": "code",
   "execution_count": 36,
   "metadata": {},
   "outputs": [
    {
     "data": {
      "text/plain": [
       "(True, True, True)"
      ]
     },
     "execution_count": 36,
     "metadata": {},
     "output_type": "execute_result"
    }
   ],
   "source": [
    "w = torch.tensor([1.],requires_grad=True)\n",
    "x = torch.tensor([2.],requires_grad=True)\n",
    "\n",
    "a = torch.add(w,x)\n",
    "b = torch.add(w,1)\n",
    "y = torch.mul(a,b)\n",
    "\n",
    "a.requires_grad,b.requires_grad,y.requires_grad"
   ]
  },
  {
   "cell_type": "code",
   "execution_count": 38,
   "metadata": {},
   "outputs": [
    {
     "ename": "RuntimeError",
     "evalue": "a leaf Variable that requires grad is being used in an in-place operation.",
     "output_type": "error",
     "traceback": [
      "\u001b[1;31m---------------------------------------------------------------------------\u001b[0m",
      "\u001b[1;31mRuntimeError\u001b[0m                              Traceback (most recent call last)",
      "Cell \u001b[1;32mIn[38], line 8\u001b[0m\n\u001b[0;32m      5\u001b[0m b \u001b[39m=\u001b[39m torch\u001b[39m.\u001b[39madd(w,\u001b[39m1\u001b[39m)\n\u001b[0;32m      6\u001b[0m y \u001b[39m=\u001b[39m torch\u001b[39m.\u001b[39mmul(a,b)\n\u001b[1;32m----> 8\u001b[0m w\u001b[39m.\u001b[39;49madd_(\u001b[39m1\u001b[39;49m)\n\u001b[0;32m     10\u001b[0m y\u001b[39m.\u001b[39mbackward()\n",
      "\u001b[1;31mRuntimeError\u001b[0m: a leaf Variable that requires grad is being used in an in-place operation."
     ]
    }
   ],
   "source": [
    "w = torch.tensor([1.],requires_grad=True)\n",
    "x = torch.tensor([2.],requires_grad=True)\n",
    "\n",
    "a = torch.add(w,x)\n",
    "b = torch.add(w,1)\n",
    "y = torch.mul(a,b)\n",
    "\n",
    "w.add_(1)\n",
    "\n",
    "y.backward()"
   ]
  },
  {
   "cell_type": "code",
   "execution_count": 40,
   "metadata": {},
   "outputs": [
    {
     "name": "stdout",
     "output_type": "stream",
     "text": [
      "1909173143408 tensor([1.])\n",
      "1909170238736 tensor([2.])\n"
     ]
    }
   ],
   "source": [
    "a = torch.ones(1,)\n",
    "print(id(a),a)\n",
    "\n",
    "a = a + torch.ones(1,)\n",
    "print(id(a),a)"
   ]
  },
  {
   "cell_type": "markdown",
   "metadata": {},
   "source": [
    "a = a + 1 操作之后 变量的内存地址发生变化 会开辟新的内存地址\n",
    "\n",
    "这就是in-place 也就是原地操作"
   ]
  },
  {
   "cell_type": "code",
   "execution_count": 41,
   "metadata": {},
   "outputs": [
    {
     "name": "stdout",
     "output_type": "stream",
     "text": [
      "1909170632992 tensor([1.])\n",
      "1909170632992 tensor([2.])\n"
     ]
    }
   ],
   "source": [
    "a = torch.ones(1,)\n",
    "print(id(a),a)\n",
    "\n",
    "a += torch.ones(1,)\n",
    "print(id(a),a)"
   ]
  },
  {
   "cell_type": "markdown",
   "metadata": {},
   "source": [
    "而+=操作是原地操作\n",
    "\n",
    "叶子节点不能进行原地操作 \n",
    "\n",
    "因为在反向传播的时候 是可能要用到叶子张量的值的 前向传播的时候是记录地址\n",
    "\n",
    "反向传播是根据地址寻找 如果反向传播之前 改变了该地址的数据 那么梯度求解就会出错\n",
    "\n",
    "这就是为什么叶子节点不能进行in-place操作 "
   ]
  },
  {
   "cell_type": "code",
   "execution_count": null,
   "metadata": {},
   "outputs": [],
   "source": []
  }
 ],
 "metadata": {
  "kernelspec": {
   "display_name": "pytorch",
   "language": "python",
   "name": "python3"
  },
  "language_info": {
   "codemirror_mode": {
    "name": "ipython",
    "version": 3
   },
   "file_extension": ".py",
   "mimetype": "text/x-python",
   "name": "python",
   "nbconvert_exporter": "python",
   "pygments_lexer": "ipython3",
   "version": "3.10.12"
  },
  "orig_nbformat": 4
 },
 "nbformat": 4,
 "nbformat_minor": 2
}
