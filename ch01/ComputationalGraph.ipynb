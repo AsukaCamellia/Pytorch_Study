{
 "cells": [
  {
   "cell_type": "code",
   "execution_count": 2,
   "metadata": {},
   "outputs": [],
   "source": [
    "import torch\n",
    "import numpy as np\n",
    "import matplotlib.pyplot as plt"
   ]
  },
  {
   "cell_type": "markdown",
   "metadata": {},
   "source": [
    "用户创建的节点为叶子节点"
   ]
  },
  {
   "cell_type": "code",
   "execution_count": 3,
   "metadata": {},
   "outputs": [
    {
     "name": "stdout",
     "output_type": "stream",
     "text": [
      "is_leaf: True True False False\n",
      "gradient tensor([5.]) tensor([2.]) None None\n"
     ]
    },
    {
     "name": "stderr",
     "output_type": "stream",
     "text": [
      "C:\\Users\\18772\\AppData\\Local\\Temp\\ipykernel_22652\\3254508619.py:11: UserWarning: The .grad attribute of a Tensor that is not a leaf Tensor is being accessed. Its .grad attribute won't be populated during autograd.backward(). If you indeed want the .grad field to be populated for a non-leaf Tensor, use .retain_grad() on the non-leaf Tensor. If you access the non-leaf Tensor by mistake, make sure you access the leaf Tensor instead. See github.com/pytorch/pytorch/pull/30531 for more informations. (Triggered internally at C:\\b\\abs_abjetg6_iu\\croot\\pytorch_1686932924616\\work\\build\\aten\\src\\ATen/core/TensorBody.h:491.)\n",
      "  print('gradient',w.grad,x.grad,a.grad,b.grad)\n"
     ]
    }
   ],
   "source": [
    "w = torch.tensor([1.],requires_grad=True)\n",
    "x = torch.tensor([2.],requires_grad=True)\n",
    "\n",
    "a = torch.add(w,x)\n",
    "b = torch.add(w,1)\n",
    "y = torch.mul(a,b)\n",
    "\n",
    "y.backward()\n",
    "\n",
    "print('is_leaf:',w.is_leaf,x.is_leaf,a.is_leaf,b.is_leaf)\n",
    "print('gradient',w.grad,x.grad,a.grad,b.grad)"
   ]
  },
  {
   "cell_type": "code",
   "execution_count": 4,
   "metadata": {},
   "outputs": [
    {
     "name": "stdout",
     "output_type": "stream",
     "text": [
      "grad_fn None None <AddBackward0 object at 0x000001F2F2A59330> <AddBackward0 object at 0x000001F2F2A5AAA0> <MulBackward0 object at 0x000001F2F2A5A830>\n"
     ]
    }
   ],
   "source": [
    "print('grad_fn',w.grad_fn,x.grad_fn,a.grad_fn,b.grad_fn,y.grad_fn)"
   ]
  },
  {
   "cell_type": "markdown",
   "metadata": {},
   "source": [
    "retain_grad() 在反向传播前使用 保存非叶子节点的梯度"
   ]
  },
  {
   "cell_type": "code",
   "execution_count": 5,
   "metadata": {},
   "outputs": [
    {
     "name": "stdout",
     "output_type": "stream",
     "text": [
      "is_leaf: True True False False\n",
      "gradient tensor([5.]) tensor([2.]) tensor([2.]) tensor([3.])\n"
     ]
    }
   ],
   "source": [
    "w = torch.tensor([1.],requires_grad=True)\n",
    "x = torch.tensor([2.],requires_grad=True)\n",
    "\n",
    "a = torch.add(w,x)\n",
    "a.retain_grad()\n",
    "b = torch.add(w,1)\n",
    "b.retain_grad()\n",
    "y = torch.mul(a,b)\n",
    "\n",
    "y.backward()\n",
    "\n",
    "print('is_leaf:',w.is_leaf,x.is_leaf,a.is_leaf,b.is_leaf)\n",
    "print('gradient',w.grad,x.grad,a.grad,b.grad) "
   ]
  },
  {
   "cell_type": "code",
   "execution_count": null,
   "metadata": {},
   "outputs": [],
   "source": []
  }
 ],
 "metadata": {
  "kernelspec": {
   "display_name": "pytorch",
   "language": "python",
   "name": "python3"
  },
  "language_info": {
   "codemirror_mode": {
    "name": "ipython",
    "version": 3
   },
   "file_extension": ".py",
   "mimetype": "text/x-python",
   "name": "python",
   "nbconvert_exporter": "python",
   "pygments_lexer": "ipython3",
   "version": "3.10.12"
  },
  "orig_nbformat": 4
 },
 "nbformat": 4,
 "nbformat_minor": 2
}
