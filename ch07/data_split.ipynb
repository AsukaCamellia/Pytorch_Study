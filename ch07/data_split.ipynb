{
 "cells": [
  {
   "cell_type": "code",
   "execution_count": 8,
   "metadata": {},
   "outputs": [],
   "source": [
    "import os\n",
    "import sys\n",
    "import random\n",
    "import shutil\n",
    "\n",
    "def makedir(new_dir):\n",
    "    if not os.path.exists(new_dir):\n",
    "        os.makedirs(new_dir)\n",
    "\n",
    "train_pct = 0.8\n",
    "valid_pct = 0.1\n",
    "test_pct = 0.1"
   ]
  },
  {
   "cell_type": "code",
   "execution_count": 10,
   "metadata": {},
   "outputs": [],
   "source": [
    "base_dir = os.path.dirname(os.path.abspath('data_split.ipynb'))\n",
    "work_dir = os.path.dirname(base_dir)\n",
    "\n",
    "data_dir = os.path.join(work_dir,'data','RMB_data')\n",
    "split_dir = os.path.join(work_dir,'data','RMB_Split')\n",
    "train_dir = os.path.join(split_dir,'train')\n",
    "valid_dir = os.path.join(split_dir,'valid')\n",
    "test_dir = os.path.join(split_dir,'test')\n",
    "\n",
    "for root,dirs,files in os.walk(data_dir):\n",
    "    for sub_dir in dirs:\n",
    "        imgs = os.listdir(os.path.join(data_dir,sub_dir))\n",
    "        imgs = list(filter(lambda x:x.endswith('.jpg'),imgs))\n",
    "        random.shuffle(imgs)\n",
    "        img_count = len(imgs)\n",
    "\n",
    "        train_point = img_count*train_pct\n",
    "        valid_point = img_count*(train_pct+valid_pct)\n",
    "\n",
    "        for i in range(img_count):\n",
    "            if i < train_point:\n",
    "                out_dir = os.path.join(train_dir,sub_dir)\n",
    "            elif i<valid_point:\n",
    "                out_dir = os.path.join(valid_dir,sub_dir)\n",
    "            else:\n",
    "                out_dir = os.path.join(test_dir,sub_dir)\n",
    "\n",
    "            makedir(out_dir)\n",
    "\n",
    "            src_path = os.path.join(data_dir,sub_dir,imgs[i])\n",
    "            target_path = os.path.join(out_dir,imgs[i])\n",
    "\n",
    "            shutil.copy(src=src_path,dst=target_path)\n",
    "\n",
    "\n",
    "        "
   ]
  }
 ],
 "metadata": {
  "kernelspec": {
   "display_name": "pytorch",
   "language": "python",
   "name": "python3"
  },
  "language_info": {
   "codemirror_mode": {
    "name": "ipython",
    "version": 3
   },
   "file_extension": ".py",
   "mimetype": "text/x-python",
   "name": "python",
   "nbconvert_exporter": "python",
   "pygments_lexer": "ipython3",
   "version": "3.10.13"
  },
  "orig_nbformat": 4
 },
 "nbformat": 4,
 "nbformat_minor": 2
}
